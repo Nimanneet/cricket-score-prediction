{
 "metadata": {
  "language_info": {
   "codemirror_mode": {
    "name": "ipython",
    "version": 3
   },
   "file_extension": ".py",
   "mimetype": "text/x-python",
   "name": "python",
   "nbconvert_exporter": "python",
   "pygments_lexer": "ipython3",
   "version": "3.8.6-final"
  },
  "orig_nbformat": 2,
  "kernelspec": {
   "name": "python3",
   "display_name": "Python 3",
   "language": "python"
  }
 },
 "nbformat": 4,
 "nbformat_minor": 2,
 "cells": [
  {
   "source": [
    "# IPL  SCORE PREDICTION\n",
    "\n"
   ],
   "cell_type": "markdown",
   "metadata": {}
  },
  {
   "source": [
    "<img src=\"https://www.googleapis.com/download/storage/v1/b/kaggle-user-content/o/inbox%2F5635484%2Fcc4775f61ed72a625e5485a3941e6e45%2FIPL%20pic.jpg?generation=1600083123785212&alt=media\">\n",
    "\n",
    "Cricket is a bat-and-ball game played between two teams of eleven players each on a cricket field, at the centre of which is a rectangular 20-metre (22-yard) pitch with a target at each end called the wicket (a set of three wooden stumps upon which two bails sit). Each phase of play is called an innings, during which one team bats, attempting to score as many runs as possible, whilst their opponents bowl and field, attempting to minimise the number of runs scored. When each innings ends, the teams usually swap roles for the next innings (i.e. the team that previously batted will bowl/field, and vice versa). The teams each bat for one or two innings, depending on the type of match. The winning team is the one that scores the most runs, including any extras gained (except when the result is not a win/loss result). Source: https://en.wikipedia.org/wiki/Cricket\n",
    "\n",
    "\n",
    "## About Dataset\n",
    "\n",
    "Indian Premier League (IPL) is a Twenty20 cricket format league in India. It is usually played in April and May every year. As of 2019, the title sponsor of the game is Vivo. The league was founded by Board of Control for Cricket India (BCCI) in 2008.\n"
   ],
   "cell_type": "markdown",
   "metadata": {}
  },
  {
   "source": [
    "### Import Libraries\n",
    "#### Let's import all necessary libraries for the analysis and along with it let's bring down our dataset"
   ],
   "cell_type": "markdown",
   "metadata": {}
  },
  {
   "cell_type": "code",
   "execution_count": 67,
   "metadata": {},
   "outputs": [],
   "source": [
    "import pandas as pd\n",
    "import pickle\n",
    "import numpy as np\n",
    "from sklearn import metrics\n",
    "from datetime import datetime\n",
    "\n",
    "\n",
    "#Visualization Phase\n",
    "import matplotlib.pyplot as plt\n",
    "import matplotlib as mpl\n",
    "import matplotlib.pylab as pylab\n",
    "from pandas.plotting import scatter_matrix\n",
    "%matplotlib inline\n",
    "\n",
    "# for ignore warnings\n",
    "import warnings\n",
    "warnings.filterwarnings('ignore')"
   ]
  },
  {
   "source": [
    "# Gathering Data"
   ],
   "cell_type": "markdown",
   "metadata": {}
  },
  {
   "cell_type": "code",
   "execution_count": 2,
   "metadata": {},
   "outputs": [],
   "source": [
    "ipl_data = pd.read_csv('ipl.csv')"
   ]
  },
  {
   "cell_type": "code",
   "execution_count": 3,
   "metadata": {},
   "outputs": [
    {
     "output_type": "execute_result",
     "data": {
      "text/plain": [
       "   mid        date                  venue               bat_team  \\\n",
       "0    1  2008-04-18  M Chinnaswamy Stadium  Kolkata Knight Riders   \n",
       "1    1  2008-04-18  M Chinnaswamy Stadium  Kolkata Knight Riders   \n",
       "2    1  2008-04-18  M Chinnaswamy Stadium  Kolkata Knight Riders   \n",
       "3    1  2008-04-18  M Chinnaswamy Stadium  Kolkata Knight Riders   \n",
       "4    1  2008-04-18  M Chinnaswamy Stadium  Kolkata Knight Riders   \n",
       "\n",
       "                     bowl_team      batsman   bowler  runs  wickets  overs  \\\n",
       "0  Royal Challengers Bangalore   SC Ganguly  P Kumar     1        0    0.1   \n",
       "1  Royal Challengers Bangalore  BB McCullum  P Kumar     1        0    0.2   \n",
       "2  Royal Challengers Bangalore  BB McCullum  P Kumar     2        0    0.2   \n",
       "3  Royal Challengers Bangalore  BB McCullum  P Kumar     2        0    0.3   \n",
       "4  Royal Challengers Bangalore  BB McCullum  P Kumar     2        0    0.4   \n",
       "\n",
       "   runs_last_5  wickets_last_5  striker  non-striker  total  \n",
       "0            1               0        0            0    222  \n",
       "1            1               0        0            0    222  \n",
       "2            2               0        0            0    222  \n",
       "3            2               0        0            0    222  \n",
       "4            2               0        0            0    222  "
      ],
      "text/html": "<div>\n<style scoped>\n    .dataframe tbody tr th:only-of-type {\n        vertical-align: middle;\n    }\n\n    .dataframe tbody tr th {\n        vertical-align: top;\n    }\n\n    .dataframe thead th {\n        text-align: right;\n    }\n</style>\n<table border=\"1\" class=\"dataframe\">\n  <thead>\n    <tr style=\"text-align: right;\">\n      <th></th>\n      <th>mid</th>\n      <th>date</th>\n      <th>venue</th>\n      <th>bat_team</th>\n      <th>bowl_team</th>\n      <th>batsman</th>\n      <th>bowler</th>\n      <th>runs</th>\n      <th>wickets</th>\n      <th>overs</th>\n      <th>runs_last_5</th>\n      <th>wickets_last_5</th>\n      <th>striker</th>\n      <th>non-striker</th>\n      <th>total</th>\n    </tr>\n  </thead>\n  <tbody>\n    <tr>\n      <th>0</th>\n      <td>1</td>\n      <td>2008-04-18</td>\n      <td>M Chinnaswamy Stadium</td>\n      <td>Kolkata Knight Riders</td>\n      <td>Royal Challengers Bangalore</td>\n      <td>SC Ganguly</td>\n      <td>P Kumar</td>\n      <td>1</td>\n      <td>0</td>\n      <td>0.1</td>\n      <td>1</td>\n      <td>0</td>\n      <td>0</td>\n      <td>0</td>\n      <td>222</td>\n    </tr>\n    <tr>\n      <th>1</th>\n      <td>1</td>\n      <td>2008-04-18</td>\n      <td>M Chinnaswamy Stadium</td>\n      <td>Kolkata Knight Riders</td>\n      <td>Royal Challengers Bangalore</td>\n      <td>BB McCullum</td>\n      <td>P Kumar</td>\n      <td>1</td>\n      <td>0</td>\n      <td>0.2</td>\n      <td>1</td>\n      <td>0</td>\n      <td>0</td>\n      <td>0</td>\n      <td>222</td>\n    </tr>\n    <tr>\n      <th>2</th>\n      <td>1</td>\n      <td>2008-04-18</td>\n      <td>M Chinnaswamy Stadium</td>\n      <td>Kolkata Knight Riders</td>\n      <td>Royal Challengers Bangalore</td>\n      <td>BB McCullum</td>\n      <td>P Kumar</td>\n      <td>2</td>\n      <td>0</td>\n      <td>0.2</td>\n      <td>2</td>\n      <td>0</td>\n      <td>0</td>\n      <td>0</td>\n      <td>222</td>\n    </tr>\n    <tr>\n      <th>3</th>\n      <td>1</td>\n      <td>2008-04-18</td>\n      <td>M Chinnaswamy Stadium</td>\n      <td>Kolkata Knight Riders</td>\n      <td>Royal Challengers Bangalore</td>\n      <td>BB McCullum</td>\n      <td>P Kumar</td>\n      <td>2</td>\n      <td>0</td>\n      <td>0.3</td>\n      <td>2</td>\n      <td>0</td>\n      <td>0</td>\n      <td>0</td>\n      <td>222</td>\n    </tr>\n    <tr>\n      <th>4</th>\n      <td>1</td>\n      <td>2008-04-18</td>\n      <td>M Chinnaswamy Stadium</td>\n      <td>Kolkata Knight Riders</td>\n      <td>Royal Challengers Bangalore</td>\n      <td>BB McCullum</td>\n      <td>P Kumar</td>\n      <td>2</td>\n      <td>0</td>\n      <td>0.4</td>\n      <td>2</td>\n      <td>0</td>\n      <td>0</td>\n      <td>0</td>\n      <td>222</td>\n    </tr>\n  </tbody>\n</table>\n</div>"
     },
     "metadata": {},
     "execution_count": 3
    }
   ],
   "source": [
    "ipl_data.head()"
   ]
  },
  {
   "cell_type": "code",
   "execution_count": 4,
   "metadata": {},
   "outputs": [
    {
     "output_type": "stream",
     "name": "stdout",
     "text": [
      "The shape of the  data is (row, column):(76014, 15)\n"
     ]
    }
   ],
   "source": [
    "print (\"The shape of the  data is (row, column):\"+ str(ipl_data.shape))\n"
   ]
  },
  {
   "source": [
    "## Dataset Details\n",
    "\n",
    "\n",
    "### ipl_data:\n",
    "\n",
    "* **mid** - Match id.\n",
    "* **date** - UTC time and date when the Match was played.\n",
    "* **venu** - Venu where match was played.\n",
    "* **bat_team** - Bating Team Name.\n",
    "* **bowl_team** - Bowling Team Name.\n",
    "* **batsman** - Batsman Name.\n",
    "* **bowler** - Bowler Name.\n",
    "* **runs** - Runs scored in the over.\n",
    "* **wickets** - Wickets taken in that over.\n",
    "* **overs** - Number of overs.\n",
    "* **runs_last_5** - Runs in last 5 overs.\n",
    "* **wickets_last_5** - Wickets taken in last 5 overs.\n",
    "* **striker** - Number of striker.\n",
    "* **non-striker** - Number of non-striker.\n",
    "* **total** - Total scores.\n",
    "- All Indian Premier League Cricket matches between 2008-04-18 and 2017-05-21\n",
    "\n"
   ],
   "cell_type": "markdown",
   "metadata": {}
  },
  {
   "source": [
    "# Analyze the data"
   ],
   "cell_type": "markdown",
   "metadata": {}
  },
  {
   "source": [
    "## Removing unwanted columns "
   ],
   "cell_type": "markdown",
   "metadata": {}
  },
  {
   "cell_type": "code",
   "execution_count": 5,
   "metadata": {},
   "outputs": [],
   "source": [
    "removed = ['mid', 'venue', 'batsman', 'bowler', 'striker', 'non-striker']\n",
    "ipl_data.drop(labels=removed, axis=1, inplace=True)"
   ]
  },
  {
   "source": [
    "## Checking for unique teams \n"
   ],
   "cell_type": "markdown",
   "metadata": {}
  },
  {
   "cell_type": "code",
   "execution_count": 6,
   "metadata": {},
   "outputs": [
    {
     "output_type": "execute_result",
     "data": {
      "text/plain": [
       "array(['Kolkata Knight Riders', 'Chennai Super Kings', 'Rajasthan Royals',\n",
       "       'Mumbai Indians', 'Deccan Chargers', 'Kings XI Punjab',\n",
       "       'Royal Challengers Bangalore', 'Delhi Daredevils',\n",
       "       'Kochi Tuskers Kerala', 'Pune Warriors', 'Sunrisers Hyderabad',\n",
       "       'Rising Pune Supergiants', 'Gujarat Lions',\n",
       "       'Rising Pune Supergiant'], dtype=object)"
      ]
     },
     "metadata": {},
     "execution_count": 6
    }
   ],
   "source": [
    "ipl_data['bat_team'].unique()"
   ]
  },
  {
   "source": [
    "## Removing Unconsistent teams\n",
    "from bating and bowling data"
   ],
   "cell_type": "markdown",
   "metadata": {}
  },
  {
   "cell_type": "code",
   "execution_count": 7,
   "metadata": {},
   "outputs": [],
   "source": [
    "consistent_teams = ['Kolkata Knight Riders', 'Chennai Super Kings', 'Rajasthan Royals','Mumbai Indians', 'Kings XI Punjab', 'Royal Challengers Bangalore','Delhi Daredevils', 'Sunrisers Hyderabad']\n",
    "ipl_data = ipl_data[(ipl_data['bat_team'].isin(consistent_teams)) & (ipl_data['bowl_team'].isin(consistent_teams))]"
   ]
  },
  {
   "cell_type": "code",
   "execution_count": 8,
   "metadata": {},
   "outputs": [
    {
     "output_type": "execute_result",
     "data": {
      "text/plain": [
       "         date               bat_team                    bowl_team  runs  \\\n",
       "0  2008-04-18  Kolkata Knight Riders  Royal Challengers Bangalore     1   \n",
       "1  2008-04-18  Kolkata Knight Riders  Royal Challengers Bangalore     1   \n",
       "2  2008-04-18  Kolkata Knight Riders  Royal Challengers Bangalore     2   \n",
       "3  2008-04-18  Kolkata Knight Riders  Royal Challengers Bangalore     2   \n",
       "4  2008-04-18  Kolkata Knight Riders  Royal Challengers Bangalore     2   \n",
       "\n",
       "   wickets  overs  runs_last_5  wickets_last_5  total  \n",
       "0        0    0.1            1               0    222  \n",
       "1        0    0.2            1               0    222  \n",
       "2        0    0.2            2               0    222  \n",
       "3        0    0.3            2               0    222  \n",
       "4        0    0.4            2               0    222  "
      ],
      "text/html": "<div>\n<style scoped>\n    .dataframe tbody tr th:only-of-type {\n        vertical-align: middle;\n    }\n\n    .dataframe tbody tr th {\n        vertical-align: top;\n    }\n\n    .dataframe thead th {\n        text-align: right;\n    }\n</style>\n<table border=\"1\" class=\"dataframe\">\n  <thead>\n    <tr style=\"text-align: right;\">\n      <th></th>\n      <th>date</th>\n      <th>bat_team</th>\n      <th>bowl_team</th>\n      <th>runs</th>\n      <th>wickets</th>\n      <th>overs</th>\n      <th>runs_last_5</th>\n      <th>wickets_last_5</th>\n      <th>total</th>\n    </tr>\n  </thead>\n  <tbody>\n    <tr>\n      <th>0</th>\n      <td>2008-04-18</td>\n      <td>Kolkata Knight Riders</td>\n      <td>Royal Challengers Bangalore</td>\n      <td>1</td>\n      <td>0</td>\n      <td>0.1</td>\n      <td>1</td>\n      <td>0</td>\n      <td>222</td>\n    </tr>\n    <tr>\n      <th>1</th>\n      <td>2008-04-18</td>\n      <td>Kolkata Knight Riders</td>\n      <td>Royal Challengers Bangalore</td>\n      <td>1</td>\n      <td>0</td>\n      <td>0.2</td>\n      <td>1</td>\n      <td>0</td>\n      <td>222</td>\n    </tr>\n    <tr>\n      <th>2</th>\n      <td>2008-04-18</td>\n      <td>Kolkata Knight Riders</td>\n      <td>Royal Challengers Bangalore</td>\n      <td>2</td>\n      <td>0</td>\n      <td>0.2</td>\n      <td>2</td>\n      <td>0</td>\n      <td>222</td>\n    </tr>\n    <tr>\n      <th>3</th>\n      <td>2008-04-18</td>\n      <td>Kolkata Knight Riders</td>\n      <td>Royal Challengers Bangalore</td>\n      <td>2</td>\n      <td>0</td>\n      <td>0.3</td>\n      <td>2</td>\n      <td>0</td>\n      <td>222</td>\n    </tr>\n    <tr>\n      <th>4</th>\n      <td>2008-04-18</td>\n      <td>Kolkata Knight Riders</td>\n      <td>Royal Challengers Bangalore</td>\n      <td>2</td>\n      <td>0</td>\n      <td>0.4</td>\n      <td>2</td>\n      <td>0</td>\n      <td>222</td>\n    </tr>\n  </tbody>\n</table>\n</div>"
     },
     "metadata": {},
     "execution_count": 8
    }
   ],
   "source": [
    "ipl_data.head()"
   ]
  },
  {
   "source": [
    "## checking for null values"
   ],
   "cell_type": "markdown",
   "metadata": {}
  },
  {
   "cell_type": "code",
   "execution_count": 9,
   "metadata": {},
   "outputs": [
    {
     "output_type": "execute_result",
     "data": {
      "text/plain": [
       "date              0\n",
       "bat_team          0\n",
       "bowl_team         0\n",
       "runs              0\n",
       "wickets           0\n",
       "overs             0\n",
       "runs_last_5       0\n",
       "wickets_last_5    0\n",
       "total             0\n",
       "dtype: int64"
      ]
     },
     "metadata": {},
     "execution_count": 9
    }
   ],
   "source": [
    "ipl_data.isnull().sum()"
   ]
  },
  {
   "cell_type": "code",
   "execution_count": 10,
   "metadata": {},
   "outputs": [
    {
     "output_type": "execute_result",
     "data": {
      "text/plain": [
       "             date               bat_team                    bowl_team  runs  \\\n",
       "0      2008-04-18  Kolkata Knight Riders  Royal Challengers Bangalore     1   \n",
       "1      2008-04-18  Kolkata Knight Riders  Royal Challengers Bangalore     1   \n",
       "2      2008-04-18  Kolkata Knight Riders  Royal Challengers Bangalore     2   \n",
       "3      2008-04-18  Kolkata Knight Riders  Royal Challengers Bangalore     2   \n",
       "4      2008-04-18  Kolkata Knight Riders  Royal Challengers Bangalore     2   \n",
       "...           ...                    ...                          ...   ...   \n",
       "75884  2017-05-19  Kolkata Knight Riders               Mumbai Indians   106   \n",
       "75885  2017-05-19  Kolkata Knight Riders               Mumbai Indians   107   \n",
       "75886  2017-05-19  Kolkata Knight Riders               Mumbai Indians   107   \n",
       "75887  2017-05-19  Kolkata Knight Riders               Mumbai Indians   107   \n",
       "75888  2017-05-19  Kolkata Knight Riders               Mumbai Indians   107   \n",
       "\n",
       "       wickets  overs  runs_last_5  wickets_last_5  total  \n",
       "0            0    0.1            1               0    222  \n",
       "1            0    0.2            1               0    222  \n",
       "2            0    0.2            2               0    222  \n",
       "3            0    0.3            2               0    222  \n",
       "4            0    0.4            2               0    222  \n",
       "...        ...    ...          ...             ...    ...  \n",
       "75884        9   18.1           29               4    107  \n",
       "75885        9   18.2           29               4    107  \n",
       "75886        9   18.3           28               4    107  \n",
       "75887        9   18.4           24               4    107  \n",
       "75888       10   18.5           23               5    107  \n",
       "\n",
       "[53811 rows x 9 columns]"
      ],
      "text/html": "<div>\n<style scoped>\n    .dataframe tbody tr th:only-of-type {\n        vertical-align: middle;\n    }\n\n    .dataframe tbody tr th {\n        vertical-align: top;\n    }\n\n    .dataframe thead th {\n        text-align: right;\n    }\n</style>\n<table border=\"1\" class=\"dataframe\">\n  <thead>\n    <tr style=\"text-align: right;\">\n      <th></th>\n      <th>date</th>\n      <th>bat_team</th>\n      <th>bowl_team</th>\n      <th>runs</th>\n      <th>wickets</th>\n      <th>overs</th>\n      <th>runs_last_5</th>\n      <th>wickets_last_5</th>\n      <th>total</th>\n    </tr>\n  </thead>\n  <tbody>\n    <tr>\n      <th>0</th>\n      <td>2008-04-18</td>\n      <td>Kolkata Knight Riders</td>\n      <td>Royal Challengers Bangalore</td>\n      <td>1</td>\n      <td>0</td>\n      <td>0.1</td>\n      <td>1</td>\n      <td>0</td>\n      <td>222</td>\n    </tr>\n    <tr>\n      <th>1</th>\n      <td>2008-04-18</td>\n      <td>Kolkata Knight Riders</td>\n      <td>Royal Challengers Bangalore</td>\n      <td>1</td>\n      <td>0</td>\n      <td>0.2</td>\n      <td>1</td>\n      <td>0</td>\n      <td>222</td>\n    </tr>\n    <tr>\n      <th>2</th>\n      <td>2008-04-18</td>\n      <td>Kolkata Knight Riders</td>\n      <td>Royal Challengers Bangalore</td>\n      <td>2</td>\n      <td>0</td>\n      <td>0.2</td>\n      <td>2</td>\n      <td>0</td>\n      <td>222</td>\n    </tr>\n    <tr>\n      <th>3</th>\n      <td>2008-04-18</td>\n      <td>Kolkata Knight Riders</td>\n      <td>Royal Challengers Bangalore</td>\n      <td>2</td>\n      <td>0</td>\n      <td>0.3</td>\n      <td>2</td>\n      <td>0</td>\n      <td>222</td>\n    </tr>\n    <tr>\n      <th>4</th>\n      <td>2008-04-18</td>\n      <td>Kolkata Knight Riders</td>\n      <td>Royal Challengers Bangalore</td>\n      <td>2</td>\n      <td>0</td>\n      <td>0.4</td>\n      <td>2</td>\n      <td>0</td>\n      <td>222</td>\n    </tr>\n    <tr>\n      <th>...</th>\n      <td>...</td>\n      <td>...</td>\n      <td>...</td>\n      <td>...</td>\n      <td>...</td>\n      <td>...</td>\n      <td>...</td>\n      <td>...</td>\n      <td>...</td>\n    </tr>\n    <tr>\n      <th>75884</th>\n      <td>2017-05-19</td>\n      <td>Kolkata Knight Riders</td>\n      <td>Mumbai Indians</td>\n      <td>106</td>\n      <td>9</td>\n      <td>18.1</td>\n      <td>29</td>\n      <td>4</td>\n      <td>107</td>\n    </tr>\n    <tr>\n      <th>75885</th>\n      <td>2017-05-19</td>\n      <td>Kolkata Knight Riders</td>\n      <td>Mumbai Indians</td>\n      <td>107</td>\n      <td>9</td>\n      <td>18.2</td>\n      <td>29</td>\n      <td>4</td>\n      <td>107</td>\n    </tr>\n    <tr>\n      <th>75886</th>\n      <td>2017-05-19</td>\n      <td>Kolkata Knight Riders</td>\n      <td>Mumbai Indians</td>\n      <td>107</td>\n      <td>9</td>\n      <td>18.3</td>\n      <td>28</td>\n      <td>4</td>\n      <td>107</td>\n    </tr>\n    <tr>\n      <th>75887</th>\n      <td>2017-05-19</td>\n      <td>Kolkata Knight Riders</td>\n      <td>Mumbai Indians</td>\n      <td>107</td>\n      <td>9</td>\n      <td>18.4</td>\n      <td>24</td>\n      <td>4</td>\n      <td>107</td>\n    </tr>\n    <tr>\n      <th>75888</th>\n      <td>2017-05-19</td>\n      <td>Kolkata Knight Riders</td>\n      <td>Mumbai Indians</td>\n      <td>107</td>\n      <td>10</td>\n      <td>18.5</td>\n      <td>23</td>\n      <td>5</td>\n      <td>107</td>\n    </tr>\n  </tbody>\n</table>\n<p>53811 rows × 9 columns</p>\n</div>"
     },
     "metadata": {},
     "execution_count": 10
    }
   ],
   "source": [
    "ipl_data"
   ]
  },
  {
   "source": [
    "Observations:\n",
    "Our dataset has no missing values."
   ],
   "cell_type": "markdown",
   "metadata": {}
  },
  {
   "source": [
    "## Removing the first 5 overs data in every match\n",
    "Beacause we need atleast 5 overs to pridict next scores"
   ],
   "cell_type": "markdown",
   "metadata": {}
  },
  {
   "cell_type": "code",
   "execution_count": 11,
   "metadata": {},
   "outputs": [],
   "source": [
    "ipl_data = ipl_data[ipl_data['overs']>=5.0]"
   ]
  },
  {
   "cell_type": "code",
   "execution_count": 12,
   "metadata": {},
   "outputs": [
    {
     "output_type": "execute_result",
     "data": {
      "text/plain": [
       "               runs       wickets         overs   runs_last_5  wickets_last_5  \\\n",
       "count  40108.000000  40108.000000  40108.000000  40108.000000    40108.000000   \n",
       "mean      94.972699      3.042186     12.313459     38.887903        1.314027   \n",
       "std       40.966837      1.906814      4.323001     11.503810        1.062650   \n",
       "min       13.000000      0.000000      5.000000     10.000000        0.000000   \n",
       "25%       62.000000      2.000000      8.500000     31.000000        1.000000   \n",
       "50%       90.000000      3.000000     12.300000     38.000000        1.000000   \n",
       "75%      124.000000      4.000000     16.200000     46.000000        2.000000   \n",
       "max      246.000000     10.000000     19.600000     94.000000        7.000000   \n",
       "\n",
       "              total  \n",
       "count  40108.000000  \n",
       "mean     161.947517  \n",
       "std       29.831496  \n",
       "min       67.000000  \n",
       "25%      142.000000  \n",
       "50%      163.000000  \n",
       "75%      183.000000  \n",
       "max      246.000000  "
      ],
      "text/html": "<div>\n<style scoped>\n    .dataframe tbody tr th:only-of-type {\n        vertical-align: middle;\n    }\n\n    .dataframe tbody tr th {\n        vertical-align: top;\n    }\n\n    .dataframe thead th {\n        text-align: right;\n    }\n</style>\n<table border=\"1\" class=\"dataframe\">\n  <thead>\n    <tr style=\"text-align: right;\">\n      <th></th>\n      <th>runs</th>\n      <th>wickets</th>\n      <th>overs</th>\n      <th>runs_last_5</th>\n      <th>wickets_last_5</th>\n      <th>total</th>\n    </tr>\n  </thead>\n  <tbody>\n    <tr>\n      <th>count</th>\n      <td>40108.000000</td>\n      <td>40108.000000</td>\n      <td>40108.000000</td>\n      <td>40108.000000</td>\n      <td>40108.000000</td>\n      <td>40108.000000</td>\n    </tr>\n    <tr>\n      <th>mean</th>\n      <td>94.972699</td>\n      <td>3.042186</td>\n      <td>12.313459</td>\n      <td>38.887903</td>\n      <td>1.314027</td>\n      <td>161.947517</td>\n    </tr>\n    <tr>\n      <th>std</th>\n      <td>40.966837</td>\n      <td>1.906814</td>\n      <td>4.323001</td>\n      <td>11.503810</td>\n      <td>1.062650</td>\n      <td>29.831496</td>\n    </tr>\n    <tr>\n      <th>min</th>\n      <td>13.000000</td>\n      <td>0.000000</td>\n      <td>5.000000</td>\n      <td>10.000000</td>\n      <td>0.000000</td>\n      <td>67.000000</td>\n    </tr>\n    <tr>\n      <th>25%</th>\n      <td>62.000000</td>\n      <td>2.000000</td>\n      <td>8.500000</td>\n      <td>31.000000</td>\n      <td>1.000000</td>\n      <td>142.000000</td>\n    </tr>\n    <tr>\n      <th>50%</th>\n      <td>90.000000</td>\n      <td>3.000000</td>\n      <td>12.300000</td>\n      <td>38.000000</td>\n      <td>1.000000</td>\n      <td>163.000000</td>\n    </tr>\n    <tr>\n      <th>75%</th>\n      <td>124.000000</td>\n      <td>4.000000</td>\n      <td>16.200000</td>\n      <td>46.000000</td>\n      <td>2.000000</td>\n      <td>183.000000</td>\n    </tr>\n    <tr>\n      <th>max</th>\n      <td>246.000000</td>\n      <td>10.000000</td>\n      <td>19.600000</td>\n      <td>94.000000</td>\n      <td>7.000000</td>\n      <td>246.000000</td>\n    </tr>\n  </tbody>\n</table>\n</div>"
     },
     "metadata": {},
     "execution_count": 12
    }
   ],
   "source": [
    "ipl_data.describe()"
   ]
  },
  {
   "source": [
    "# HANDLING CATEGORICAL FEATURES\n",
    "using one hot encoding"
   ],
   "cell_type": "markdown",
   "metadata": {}
  },
  {
   "cell_type": "code",
   "execution_count": 13,
   "metadata": {},
   "outputs": [
    {
     "output_type": "execute_result",
     "data": {
      "text/plain": [
       "          date  runs  wickets  overs  runs_last_5  wickets_last_5  total  \\\n",
       "32  2008-04-18    61        0    5.1           59               0    222   \n",
       "33  2008-04-18    61        1    5.2           59               1    222   \n",
       "34  2008-04-18    61        1    5.3           59               1    222   \n",
       "35  2008-04-18    61        1    5.4           59               1    222   \n",
       "36  2008-04-18    61        1    5.5           58               1    222   \n",
       "\n",
       "    bat_team_Chennai Super Kings  bat_team_Delhi Daredevils  \\\n",
       "32                             0                          0   \n",
       "33                             0                          0   \n",
       "34                             0                          0   \n",
       "35                             0                          0   \n",
       "36                             0                          0   \n",
       "\n",
       "    bat_team_Kings XI Punjab  ...  bat_team_Royal Challengers Bangalore  \\\n",
       "32                         0  ...                                     0   \n",
       "33                         0  ...                                     0   \n",
       "34                         0  ...                                     0   \n",
       "35                         0  ...                                     0   \n",
       "36                         0  ...                                     0   \n",
       "\n",
       "    bat_team_Sunrisers Hyderabad  bowl_team_Chennai Super Kings  \\\n",
       "32                             0                              0   \n",
       "33                             0                              0   \n",
       "34                             0                              0   \n",
       "35                             0                              0   \n",
       "36                             0                              0   \n",
       "\n",
       "    bowl_team_Delhi Daredevils  bowl_team_Kings XI Punjab  \\\n",
       "32                           0                          0   \n",
       "33                           0                          0   \n",
       "34                           0                          0   \n",
       "35                           0                          0   \n",
       "36                           0                          0   \n",
       "\n",
       "    bowl_team_Kolkata Knight Riders  bowl_team_Mumbai Indians  \\\n",
       "32                                0                         0   \n",
       "33                                0                         0   \n",
       "34                                0                         0   \n",
       "35                                0                         0   \n",
       "36                                0                         0   \n",
       "\n",
       "    bowl_team_Rajasthan Royals  bowl_team_Royal Challengers Bangalore  \\\n",
       "32                           0                                      1   \n",
       "33                           0                                      1   \n",
       "34                           0                                      1   \n",
       "35                           0                                      1   \n",
       "36                           0                                      1   \n",
       "\n",
       "    bowl_team_Sunrisers Hyderabad  \n",
       "32                              0  \n",
       "33                              0  \n",
       "34                              0  \n",
       "35                              0  \n",
       "36                              0  \n",
       "\n",
       "[5 rows x 23 columns]"
      ],
      "text/html": "<div>\n<style scoped>\n    .dataframe tbody tr th:only-of-type {\n        vertical-align: middle;\n    }\n\n    .dataframe tbody tr th {\n        vertical-align: top;\n    }\n\n    .dataframe thead th {\n        text-align: right;\n    }\n</style>\n<table border=\"1\" class=\"dataframe\">\n  <thead>\n    <tr style=\"text-align: right;\">\n      <th></th>\n      <th>date</th>\n      <th>runs</th>\n      <th>wickets</th>\n      <th>overs</th>\n      <th>runs_last_5</th>\n      <th>wickets_last_5</th>\n      <th>total</th>\n      <th>bat_team_Chennai Super Kings</th>\n      <th>bat_team_Delhi Daredevils</th>\n      <th>bat_team_Kings XI Punjab</th>\n      <th>...</th>\n      <th>bat_team_Royal Challengers Bangalore</th>\n      <th>bat_team_Sunrisers Hyderabad</th>\n      <th>bowl_team_Chennai Super Kings</th>\n      <th>bowl_team_Delhi Daredevils</th>\n      <th>bowl_team_Kings XI Punjab</th>\n      <th>bowl_team_Kolkata Knight Riders</th>\n      <th>bowl_team_Mumbai Indians</th>\n      <th>bowl_team_Rajasthan Royals</th>\n      <th>bowl_team_Royal Challengers Bangalore</th>\n      <th>bowl_team_Sunrisers Hyderabad</th>\n    </tr>\n  </thead>\n  <tbody>\n    <tr>\n      <th>32</th>\n      <td>2008-04-18</td>\n      <td>61</td>\n      <td>0</td>\n      <td>5.1</td>\n      <td>59</td>\n      <td>0</td>\n      <td>222</td>\n      <td>0</td>\n      <td>0</td>\n      <td>0</td>\n      <td>...</td>\n      <td>0</td>\n      <td>0</td>\n      <td>0</td>\n      <td>0</td>\n      <td>0</td>\n      <td>0</td>\n      <td>0</td>\n      <td>0</td>\n      <td>1</td>\n      <td>0</td>\n    </tr>\n    <tr>\n      <th>33</th>\n      <td>2008-04-18</td>\n      <td>61</td>\n      <td>1</td>\n      <td>5.2</td>\n      <td>59</td>\n      <td>1</td>\n      <td>222</td>\n      <td>0</td>\n      <td>0</td>\n      <td>0</td>\n      <td>...</td>\n      <td>0</td>\n      <td>0</td>\n      <td>0</td>\n      <td>0</td>\n      <td>0</td>\n      <td>0</td>\n      <td>0</td>\n      <td>0</td>\n      <td>1</td>\n      <td>0</td>\n    </tr>\n    <tr>\n      <th>34</th>\n      <td>2008-04-18</td>\n      <td>61</td>\n      <td>1</td>\n      <td>5.3</td>\n      <td>59</td>\n      <td>1</td>\n      <td>222</td>\n      <td>0</td>\n      <td>0</td>\n      <td>0</td>\n      <td>...</td>\n      <td>0</td>\n      <td>0</td>\n      <td>0</td>\n      <td>0</td>\n      <td>0</td>\n      <td>0</td>\n      <td>0</td>\n      <td>0</td>\n      <td>1</td>\n      <td>0</td>\n    </tr>\n    <tr>\n      <th>35</th>\n      <td>2008-04-18</td>\n      <td>61</td>\n      <td>1</td>\n      <td>5.4</td>\n      <td>59</td>\n      <td>1</td>\n      <td>222</td>\n      <td>0</td>\n      <td>0</td>\n      <td>0</td>\n      <td>...</td>\n      <td>0</td>\n      <td>0</td>\n      <td>0</td>\n      <td>0</td>\n      <td>0</td>\n      <td>0</td>\n      <td>0</td>\n      <td>0</td>\n      <td>1</td>\n      <td>0</td>\n    </tr>\n    <tr>\n      <th>36</th>\n      <td>2008-04-18</td>\n      <td>61</td>\n      <td>1</td>\n      <td>5.5</td>\n      <td>58</td>\n      <td>1</td>\n      <td>222</td>\n      <td>0</td>\n      <td>0</td>\n      <td>0</td>\n      <td>...</td>\n      <td>0</td>\n      <td>0</td>\n      <td>0</td>\n      <td>0</td>\n      <td>0</td>\n      <td>0</td>\n      <td>0</td>\n      <td>0</td>\n      <td>1</td>\n      <td>0</td>\n    </tr>\n  </tbody>\n</table>\n<p>5 rows × 23 columns</p>\n</div>"
     },
     "metadata": {},
     "execution_count": 13
    }
   ],
   "source": [
    "encoded_df = pd.get_dummies(data=ipl_data, columns=['bat_team', 'bowl_team'])\n",
    "encoded_df.head()"
   ]
  },
  {
   "cell_type": "code",
   "execution_count": 14,
   "metadata": {},
   "outputs": [
    {
     "output_type": "stream",
     "name": "stdout",
     "text": [
      "Index(['date', 'runs', 'wickets', 'overs', 'runs_last_5', 'wickets_last_5',\n       'total', 'bat_team_Chennai Super Kings', 'bat_team_Delhi Daredevils',\n       'bat_team_Kings XI Punjab', 'bat_team_Kolkata Knight Riders',\n       'bat_team_Mumbai Indians', 'bat_team_Rajasthan Royals',\n       'bat_team_Royal Challengers Bangalore', 'bat_team_Sunrisers Hyderabad',\n       'bowl_team_Chennai Super Kings', 'bowl_team_Delhi Daredevils',\n       'bowl_team_Kings XI Punjab', 'bowl_team_Kolkata Knight Riders',\n       'bowl_team_Mumbai Indians', 'bowl_team_Rajasthan Royals',\n       'bowl_team_Royal Challengers Bangalore',\n       'bowl_team_Sunrisers Hyderabad'],\n      dtype='object')\n"
     ]
    }
   ],
   "source": [
    "## Our new colums\n",
    "print(encoded_df.columns)"
   ]
  },
  {
   "source": [
    "### Converting the column 'date' from string into datetime object \n",
    "usefull while train-test-split"
   ],
   "cell_type": "markdown",
   "metadata": {}
  },
  {
   "cell_type": "code",
   "execution_count": 15,
   "metadata": {},
   "outputs": [],
   "source": [
    "encoded_df['date'] = encoded_df['date'].apply(lambda x: datetime.strptime(x, '%Y-%m-%d'))"
   ]
  },
  {
   "source": [
    "# The Train-Test Split\n",
    "Splitting the data into train and test set"
   ],
   "cell_type": "markdown",
   "metadata": {}
  },
  {
   "cell_type": "code",
   "execution_count": 16,
   "metadata": {},
   "outputs": [],
   "source": [
    "X_train = encoded_df.drop(labels='total', axis=1)[encoded_df['date'].dt.year <= 2016]\n",
    "X_test = encoded_df.drop(labels='total', axis=1)[encoded_df['date'].dt.year >= 2017]"
   ]
  },
  {
   "cell_type": "code",
   "execution_count": 17,
   "metadata": {},
   "outputs": [],
   "source": [
    "y_train = encoded_df[encoded_df['date'].dt.year <= 2016]['total'].values\n",
    "y_test = encoded_df[encoded_df['date'].dt.year >= 2017]['total'].values"
   ]
  },
  {
   "source": [
    "## Removing the 'date' column"
   ],
   "cell_type": "markdown",
   "metadata": {}
  },
  {
   "cell_type": "code",
   "execution_count": 18,
   "metadata": {},
   "outputs": [],
   "source": [
    "\n",
    "X_train.drop(labels='date', axis=True, inplace=True)\n",
    "X_test.drop(labels='date', axis=True, inplace=True)"
   ]
  },
  {
   "source": [
    "# Coorelations"
   ],
   "cell_type": "markdown",
   "metadata": {}
  },
  {
   "cell_type": "code",
   "execution_count": 19,
   "metadata": {},
   "outputs": [
    {
     "output_type": "execute_result",
     "data": {
      "text/plain": [
       "total             1.000000\n",
       "runs_last_5       0.587091\n",
       "runs              0.391254\n",
       "overs             0.028468\n",
       "wickets_last_5   -0.297397\n",
       "wickets          -0.457055\n",
       "Name: total, dtype: float64"
      ]
     },
     "metadata": {},
     "execution_count": 19
    }
   ],
   "source": [
    "cor = ipl_data.corr()\n",
    "cor['total'].sort_values(ascending=False)"
   ]
  },
  {
   "source": [
    "### observation\n",
    "- As we can see 'runs_last_5' shows positive correlation \n",
    "which mean if 'runs_last_5' total runs increase.\n",
    "- Similarly if 'wickets' increase total decrease. \n",
    "'wickets' shows negative correaltion"
   ],
   "cell_type": "markdown",
   "metadata": {}
  },
  {
   "source": [
    "# Selecting a Desired model for prediction"
   ],
   "cell_type": "markdown",
   "metadata": {}
  },
  {
   "cell_type": "code",
   "execution_count": 56,
   "metadata": {},
   "outputs": [
    {
     "output_type": "execute_result",
     "data": {
      "text/plain": [
       "Ridge()"
      ]
     },
     "metadata": {},
     "execution_count": 56
    }
   ],
   "source": [
    "from sklearn.linear_model import Ridge\n",
    "\n",
    "\n",
    "model = Ridge()\n",
    "model.fit(X_train, y_train)"
   ]
  },
  {
   "source": [
    "# Using Cross-Validation"
   ],
   "cell_type": "markdown",
   "metadata": {}
  },
  {
   "cell_type": "code",
   "execution_count": 57,
   "metadata": {},
   "outputs": [],
   "source": [
    "from sklearn.model_selection import cross_val_score\n",
    "scores = cross_val_score(model,X_train,y_train,scoring='neg_mean_squared_error',cv=10)"
   ]
  },
  {
   "cell_type": "code",
   "execution_count": 58,
   "metadata": {},
   "outputs": [],
   "source": [
    "rmse_scores = np.sqrt(-scores)"
   ]
  },
  {
   "cell_type": "code",
   "execution_count": 59,
   "metadata": {},
   "outputs": [
    {
     "output_type": "execute_result",
     "data": {
      "text/plain": [
       "array([19.73740558, 15.91260446, 17.12674592, 19.48555003, 17.91646659,\n",
       "       16.44733104, 18.94796102, 19.65136251, 17.69556262, 17.266714  ])"
      ]
     },
     "metadata": {},
     "execution_count": 59
    }
   ],
   "source": [
    "rmse_scores"
   ]
  },
  {
   "cell_type": "code",
   "execution_count": 60,
   "metadata": {},
   "outputs": [],
   "source": [
    "def print_scores(scores):\n",
    "    print(\"SCORES: \",scores)\n",
    "    print(\"Mean : \",scores.mean())\n",
    "    print(\"Standard Deviation : \",scores.std())"
   ]
  },
  {
   "cell_type": "code",
   "execution_count": 61,
   "metadata": {},
   "outputs": [
    {
     "output_type": "stream",
     "name": "stdout",
     "text": [
      "SCORES:  [19.73740558 15.91260446 17.12674592 19.48555003 17.91646659 16.44733104\n 18.94796102 19.65136251 17.69556262 17.266714  ]\nMean :  18.018770377318468\nStandard Deviation :  1.3044341305789664\n"
     ]
    }
   ],
   "source": [
    "print_scores(rmse_scores)"
   ]
  },
  {
   "cell_type": "code",
   "execution_count": 63,
   "metadata": {},
   "outputs": [],
   "source": [
    "prediction = model.predict(X_test)"
   ]
  },
  {
   "cell_type": "code",
   "execution_count": 68,
   "metadata": {},
   "outputs": [
    {
     "output_type": "stream",
     "name": "stdout",
     "text": [
      "RMSE: 15.843248011910424\n"
     ]
    }
   ],
   "source": [
    "\n",
    "print('RMSE:', np.sqrt(metrics.mean_squared_error(y_test, prediction)))"
   ]
  },
  {
   "source": [
    "# Pickling "
   ],
   "cell_type": "markdown",
   "metadata": {}
  },
  {
   "cell_type": "code",
   "execution_count": 70,
   "metadata": {},
   "outputs": [],
   "source": [
    "filename = 'model.pkl'\n",
    "pickle.dump(model, open(filename, 'wb'))"
   ]
  },
  {
   "cell_type": "code",
   "execution_count": null,
   "metadata": {},
   "outputs": [],
   "source": []
  },
  {
   "cell_type": "code",
   "execution_count": null,
   "metadata": {},
   "outputs": [],
   "source": []
  },
  {
   "cell_type": "code",
   "execution_count": null,
   "metadata": {},
   "outputs": [],
   "source": []
  },
  {
   "cell_type": "code",
   "execution_count": null,
   "metadata": {},
   "outputs": [],
   "source": []
  },
  {
   "cell_type": "code",
   "execution_count": null,
   "metadata": {},
   "outputs": [],
   "source": []
  },
  {
   "cell_type": "code",
   "execution_count": null,
   "metadata": {},
   "outputs": [],
   "source": []
  },
  {
   "cell_type": "code",
   "execution_count": null,
   "metadata": {},
   "outputs": [],
   "source": []
  },
  {
   "cell_type": "code",
   "execution_count": null,
   "metadata": {},
   "outputs": [],
   "source": []
  }
 ]
}